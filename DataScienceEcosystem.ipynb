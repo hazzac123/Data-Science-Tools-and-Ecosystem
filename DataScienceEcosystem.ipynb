{
 "cells": [
  {
   "cell_type": "markdown",
   "id": "04ae8c21-648f-4d75-a1dc-4c0dc1e67c00",
   "metadata": {},
   "source": [
    "# Data Science Tools and Ecosystem"
   ]
  },
  {
   "cell_type": "markdown",
   "id": "1605c681-d7e1-48d1-8162-6a4407d688c1",
   "metadata": {},
   "source": [
    "In this notebook, Data Science Tools and Ecosystem are summarized."
   ]
  },
  {
   "cell_type": "markdown",
   "id": "cbba3dec-45e6-4952-9c9e-24abf9af4729",
   "metadata": {},
   "source": [
    "Some of the popular languages that Data Scientists use are:"
   ]
  },
  {
   "cell_type": "markdown",
   "id": "f42aa976-6e60-4544-8871-49efbaa2d93f",
   "metadata": {},
   "source": [
    "<ol>\n",
    "<li> Python \n",
    "<li> R \n",
    "<li> Java \n",
    "<li> SQL \n",
    "<ol>"
   ]
  },
  {
   "cell_type": "markdown",
   "id": "198ce831-0cb2-4bfc-ae78-a5aba37675cf",
   "metadata": {},
   "source": [
    "Some of the commonly used libraries used by Data Scientists include:"
   ]
  },
  {
   "cell_type": "markdown",
   "id": "26d4c250-de03-459c-b827-5a73fbc8a474",
   "metadata": {},
   "source": [
    "<ol>\n",
    "<li> TensorFlow\n",
    "<li> NumPy\n",
    "<li> SciPy\n",
    "<li> Matplotlib\n",
    "<ol>"
   ]
  },
  {
   "cell_type": "markdown",
   "id": "003a6008-a556-448b-9579-97749b55f444",
   "metadata": {
    "tags": []
   },
   "source": [
    "| Data Science Tools |\n",
    "| -------------|\n",
    "| Jupyter | \n",
    "| Visual Studio| \n",
    "| RStudio | "
   ]
  },
  {
   "cell_type": "markdown",
   "id": "d8baa35f-2704-4a3a-b8dc-6cae1eab1235",
   "metadata": {
    "tags": []
   },
   "source": [
    "### Below are a few examples of evaluating arithmetic expressions in Python."
   ]
  },
  {
   "cell_type": "markdown",
   "id": "366414a9-a7b4-4559-8d00-d2466e40c903",
   "metadata": {},
   "source": [
    "This a simple arithmetic expression to mutiply then add integers"
   ]
  },
  {
   "cell_type": "code",
   "execution_count": 3,
   "id": "bbbd4d66-5d8d-4929-8553-45ecfee81079",
   "metadata": {
    "tags": []
   },
   "outputs": [
    {
     "data": {
      "text/plain": [
       "17"
      ]
     },
     "execution_count": 3,
     "metadata": {},
     "output_type": "execute_result"
    }
   ],
   "source": [
    "(3*4)+5"
   ]
  },
  {
   "cell_type": "markdown",
   "id": "764fcecc-853c-4399-9055-823497c745d3",
   "metadata": {},
   "source": [
    " This will convert 200 minutes to hours by diving by 60"
   ]
  },
  {
   "cell_type": "code",
   "execution_count": 11,
   "id": "c0ad49b4-42b9-4ff2-af03-1ea16bfe1256",
   "metadata": {
    "tags": []
   },
   "outputs": [
    {
     "data": {
      "text/plain": [
       "3.3333333333333335"
      ]
     },
     "execution_count": 11,
     "metadata": {},
     "output_type": "execute_result"
    }
   ],
   "source": [
    " 200/60 "
   ]
  },
  {
   "cell_type": "markdown",
   "id": "45bd1129-67e9-46a7-9ac0-14391eb0b6ae",
   "metadata": {},
   "source": [
    "**Objectives:**"
   ]
  },
  {
   "cell_type": "markdown",
   "id": "bc1070aa-3793-4176-bba3-d3648a9fdb00",
   "metadata": {},
   "source": [
    "- List popular languages for Data Science\n",
    "- Learn to navigate Jupyter Notebooks\n",
    "- Basic Markup functions in Jupyter Notebooks\n",
    "- Addition and division in Jupyter Notebooks\n",
    "- Lists in in Jupyter Notebooks"
   ]
  },
  {
   "cell_type": "markdown",
   "id": "38a55593-d722-4e04-8730-939547d48844",
   "metadata": {},
   "source": [
    "## Author \n",
    "Ian C "
   ]
  }
 ],
 "metadata": {
  "kernelspec": {
   "display_name": "Python",
   "language": "python",
   "name": "conda-env-python-py"
  },
  "language_info": {
   "codemirror_mode": {
    "name": "ipython",
    "version": 3
   },
   "file_extension": ".py",
   "mimetype": "text/x-python",
   "name": "python",
   "nbconvert_exporter": "python",
   "pygments_lexer": "ipython3",
   "version": "3.7.12"
  }
 },
 "nbformat": 4,
 "nbformat_minor": 5
}
